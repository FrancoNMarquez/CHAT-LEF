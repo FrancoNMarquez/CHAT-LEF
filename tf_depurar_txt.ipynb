{
  "nbformat": 4,
  "nbformat_minor": 0,
  "metadata": {
    "colab": {
      "provenance": [],
      "authorship_tag": "ABX9TyN9LLU1ymrRE559rT9A0yvT",
      "include_colab_link": true
    },
    "kernelspec": {
      "name": "python3",
      "display_name": "Python 3"
    },
    "language_info": {
      "name": "python"
    }
  },
  "cells": [
    {
      "cell_type": "markdown",
      "metadata": {
        "id": "view-in-github",
        "colab_type": "text"
      },
      "source": [
        "<a href=\"https://colab.research.google.com/github/FrancoNMarquez/CHAT-LEF/blob/master/tf_depurar_txt.ipynb\" target=\"_parent\"><img src=\"https://colab.research.google.com/assets/colab-badge.svg\" alt=\"Open In Colab\"/></a>"
      ]
    },
    {
      "cell_type": "markdown",
      "source": [
        "# Eliminacion de las Palabras que estan entre corchetes de todos los txt"
      ],
      "metadata": {
        "id": "Z7ILWyJVBaTw"
      }
    },
    {
      "cell_type": "code",
      "source": [
        "import os\n",
        "import re\n",
        "#\n",
        "# Definir una función para eliminar palabras entre corchetes de un texto\n",
        "def eliminar_palabras_corchetes(texto):\n",
        "    # Expresión regular para encontrar palabras entre corchetes\n",
        "    patron = r'\\[(.*?)\\]'\n",
        "    # Reemplazar todas las ocurrencias de palabras entre corchetes con una cadena vacía\n",
        "    texto_sin_corchetes = re.sub(patron, '', texto)\n",
        "    # Devolver el texto sin palabras entre corchetes\n",
        "    return texto_sin_corchetes\n",
        "\n",
        "# Directorio donde se encuentran los archivos de texto\n",
        "directorio_origen = '/content/drive/MyDrive/chatlef/Txt/'\n",
        "directorio_destino = '/content/drive/MyDrive/chatlef/Txt/Modificado/'\n",
        "\n",
        "# Crear el directorio de destino si no existe\n",
        "if not os.path.exists(directorio_destino):\n",
        "    os.makedirs(directorio_destino)\n",
        "\n",
        "# Obtener la lista de archivos en el directorio\n",
        "archivos_txt = [archivo for archivo in os.listdir(directorio_origen) if archivo.endswith('.txt')]\n",
        "\n",
        "# Procesar cada archivo de texto\n",
        "for archivo in archivos_txt:\n",
        "    # Ruta completa del archivo de origen\n",
        "    ruta_archivo_origen = os.path.join(directorio_origen, archivo)\n",
        "\n",
        "    # Leer el contenido del archivo de texto\n",
        "    with open(ruta_archivo_origen, 'r') as file:\n",
        "        texto_completo = file.read()\n",
        "\n",
        "    # Eliminar todas las palabras entre corchetes del texto completo\n",
        "    texto_sin_corchetes = eliminar_palabras_corchetes(texto_completo)\n",
        "\n",
        "    # Ruta del archivo de destino\n",
        "    ruta_archivo_destino = os.path.join(directorio_destino, archivo)\n",
        "\n",
        "    # Escribir el texto modificado en el archivo de destino\n",
        "    with open(ruta_archivo_destino, 'w') as file:\n",
        "        file.write(texto_sin_corchetes)\n",
        "\n",
        "    print(\"Palabras entre corchetes eliminadas en el archivo\", archivo, \"y guardado en\", ruta_archivo_destino)\n"
      ],
      "metadata": {
        "colab": {
          "base_uri": "https://localhost:8080/"
        },
        "id": "3e2RKxnyHc5I",
        "outputId": "c06d913b-0993-4df1-f493-d41546c8039b"
      },
      "execution_count": null,
      "outputs": [
        {
          "output_type": "stream",
          "name": "stdout",
          "text": [
            "Palabras entre corchetes eliminadas en el archivo XOBv5U1nHws.txt y guardado en /content/drive/MyDrive/chatlef/Txt/Modificado/XOBv5U1nHws.txt\n",
            "Palabras entre corchetes eliminadas en el archivo fVKkpb5q1Oc.txt y guardado en /content/drive/MyDrive/chatlef/Txt/Modificado/fVKkpb5q1Oc.txt\n",
            "Palabras entre corchetes eliminadas en el archivo zMF966bkKvY.txt y guardado en /content/drive/MyDrive/chatlef/Txt/Modificado/zMF966bkKvY.txt\n",
            "Palabras entre corchetes eliminadas en el archivo s-Yg52wSNKc.txt y guardado en /content/drive/MyDrive/chatlef/Txt/Modificado/s-Yg52wSNKc.txt\n",
            "Palabras entre corchetes eliminadas en el archivo MANTtPfb1G0.txt y guardado en /content/drive/MyDrive/chatlef/Txt/Modificado/MANTtPfb1G0.txt\n",
            "Palabras entre corchetes eliminadas en el archivo XLAdvjbQe6M.txt y guardado en /content/drive/MyDrive/chatlef/Txt/Modificado/XLAdvjbQe6M.txt\n",
            "Palabras entre corchetes eliminadas en el archivo Ehw9F3Mi9QI.txt y guardado en /content/drive/MyDrive/chatlef/Txt/Modificado/Ehw9F3Mi9QI.txt\n",
            "Palabras entre corchetes eliminadas en el archivo geVYnK3p2CE.txt y guardado en /content/drive/MyDrive/chatlef/Txt/Modificado/geVYnK3p2CE.txt\n",
            "Palabras entre corchetes eliminadas en el archivo DCoVqxi-EjY.txt y guardado en /content/drive/MyDrive/chatlef/Txt/Modificado/DCoVqxi-EjY.txt\n",
            "Palabras entre corchetes eliminadas en el archivo S9PHei3dbsA.txt y guardado en /content/drive/MyDrive/chatlef/Txt/Modificado/S9PHei3dbsA.txt\n"
          ]
        }
      ]
    }
  ]
}