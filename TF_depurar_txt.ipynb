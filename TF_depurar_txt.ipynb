{
  "nbformat": 4,
  "nbformat_minor": 0,
  "metadata": {
    "colab": {
      "provenance": [],
      "authorship_tag": "ABX9TyNJyxuFDL+khCuhqg5lpG+r",
      "include_colab_link": true
    },
    "kernelspec": {
      "name": "python3",
      "display_name": "Python 3"
    },
    "language_info": {
      "name": "python"
    }
  },
  "cells": [
    {
      "cell_type": "markdown",
      "metadata": {
        "id": "view-in-github",
        "colab_type": "text"
      },
      "source": [
        "<a href=\"https://colab.research.google.com/github/FrancoNMarquez/CHAT-LEF/blob/master/TF_depurar_txt.ipynb\" target=\"_parent\"><img src=\"https://colab.research.google.com/assets/colab-badge.svg\" alt=\"Open In Colab\"/></a>"
      ]
    },
    {
      "cell_type": "markdown",
      "source": [
        "# Eliminacion de las Palabras que estan entre corchetes de todos los txt"
      ],
      "metadata": {
        "id": "Z7ILWyJVBaTw"
      }
    },
    {
      "cell_type": "code",
      "source": [
        "# Montar Google Drive en Colab\n",
        "from google.colab import drive\n",
        "drive.mount('/content/drive')"
      ],
      "metadata": {
        "colab": {
          "base_uri": "https://localhost:8080/"
        },
        "id": "qSejhDQ-b8j1",
        "outputId": "54cdaf51-3295-4997-a52b-3feb8aa5bb03"
      },
      "execution_count": null,
      "outputs": [
        {
          "output_type": "stream",
          "name": "stdout",
          "text": [
            "Drive already mounted at /content/drive; to attempt to forcibly remount, call drive.mount(\"/content/drive\", force_remount=True).\n"
          ]
        }
      ]
    },
    {
      "cell_type": "code",
      "source": [
        "import os\n",
        "import re\n",
        "\n",
        "# Definir una función para eliminar palabras entre corchetes de un texto\n",
        "def eliminar_palabras_corchetes(texto):\n",
        "    # Expresión regular para encontrar palabras entre corchetes\n",
        "    patron = r'\\[(.*?)\\]'\n",
        "    # Reemplazar todas las ocurrencias de palabras entre corchetes con una cadena vacía\n",
        "    texto_sin_corchetes = re.sub(patron, '', texto)\n",
        "    # Devolver el texto sin palabras entre corchetes\n",
        "    return texto_sin_corchetes\n",
        "\n",
        "# Directorio donde se encuentran los archivos de texto\n",
        "directorio_origen = '/content/drive/MyDrive/chatlef/Txt/'\n",
        "directorio_destino = '/content/drive/MyDrive/chatlef/Txt/Modificado/'\n",
        "\n",
        "# Crear el directorio de destino si no existe\n",
        "if not os.path.exists(directorio_destino):\n",
        "    os.makedirs(directorio_destino)\n",
        "\n",
        "# Obtener la lista de archivos en el directorio\n",
        "archivos_txt = [archivo for archivo in os.listdir(directorio_origen) if archivo.endswith('.txt')]\n",
        "\n",
        "# Procesar cada archivo de texto\n",
        "for archivo in archivos_txt:\n",
        "    # Ruta completa del archivo de origen\n",
        "    ruta_archivo_origen = os.path.join(directorio_origen, archivo)\n",
        "\n",
        "    # Leer el contenido del archivo de texto\n",
        "    with open(ruta_archivo_origen, 'r') as file:\n",
        "        texto_completo = file.read()\n",
        "\n",
        "    # Eliminar todas las palabras entre corchetes del texto completo\n",
        "    texto_sin_corchetes = eliminar_palabras_corchetes(texto_completo)\n",
        "\n",
        "    # Ruta del archivo de destino\n",
        "    ruta_archivo_destino = os.path.join(directorio_destino, archivo)\n",
        "\n",
        "    # Escribir el texto modificado en el archivo de destino\n",
        "    with open(ruta_archivo_destino, 'w') as file:\n",
        "        file.write(texto_sin_corchetes)\n",
        "\n",
        "    print(\"Palabras entre corchetes eliminadas en el archivo\", archivo, \"y guardado en\", ruta_archivo_destino)\n"
      ],
      "metadata": {
        "id": "3e2RKxnyHc5I",
        "colab": {
          "base_uri": "https://localhost:8080/"
        },
        "outputId": "c837c98a-42ce-44ea-eb60-9e985fcacbc4"
      },
      "execution_count": null,
      "outputs": [
        {
          "output_type": "stream",
          "name": "stdout",
          "text": [
            "Palabras entre corchetes eliminadas en el archivo 31_qgoA7M8msSs.txt y guardado en /content/drive/MyDrive/chatlef/Txt/Modificado/31_qgoA7M8msSs.txt\n",
            "Palabras entre corchetes eliminadas en el archivo 30_NJKUPY31Ihw.txt y guardado en /content/drive/MyDrive/chatlef/Txt/Modificado/30_NJKUPY31Ihw.txt\n",
            "Palabras entre corchetes eliminadas en el archivo 29_NUlWcTWsfR8.txt y guardado en /content/drive/MyDrive/chatlef/Txt/Modificado/29_NUlWcTWsfR8.txt\n",
            "Palabras entre corchetes eliminadas en el archivo 28_UNZz4H_Bx0s.txt y guardado en /content/drive/MyDrive/chatlef/Txt/Modificado/28_UNZz4H_Bx0s.txt\n",
            "Palabras entre corchetes eliminadas en el archivo 27_La9JEBk6ZVU.txt y guardado en /content/drive/MyDrive/chatlef/Txt/Modificado/27_La9JEBk6ZVU.txt\n",
            "Palabras entre corchetes eliminadas en el archivo 26_9-iZjJwEk3c.txt y guardado en /content/drive/MyDrive/chatlef/Txt/Modificado/26_9-iZjJwEk3c.txt\n",
            "Palabras entre corchetes eliminadas en el archivo 25_2jAJjJ2WO3Y.txt y guardado en /content/drive/MyDrive/chatlef/Txt/Modificado/25_2jAJjJ2WO3Y.txt\n",
            "Palabras entre corchetes eliminadas en el archivo 22_YOdajMsWZAQ.txt y guardado en /content/drive/MyDrive/chatlef/Txt/Modificado/22_YOdajMsWZAQ.txt\n",
            "Palabras entre corchetes eliminadas en el archivo 21_3vfEIhqZCnY.txt y guardado en /content/drive/MyDrive/chatlef/Txt/Modificado/21_3vfEIhqZCnY.txt\n",
            "Palabras entre corchetes eliminadas en el archivo 24_NDor8fLB2fg.txt y guardado en /content/drive/MyDrive/chatlef/Txt/Modificado/24_NDor8fLB2fg.txt\n",
            "Palabras entre corchetes eliminadas en el archivo 23__hinMLX5VnI.txt y guardado en /content/drive/MyDrive/chatlef/Txt/Modificado/23__hinMLX5VnI.txt\n",
            "Palabras entre corchetes eliminadas en el archivo 20_3Ssh1SsiW6s.txt y guardado en /content/drive/MyDrive/chatlef/Txt/Modificado/20_3Ssh1SsiW6s.txt\n",
            "Palabras entre corchetes eliminadas en el archivo 19_urDhXUtxGWM.txt y guardado en /content/drive/MyDrive/chatlef/Txt/Modificado/19_urDhXUtxGWM.txt\n",
            "Palabras entre corchetes eliminadas en el archivo 18_7MbNubZixhg.txt y guardado en /content/drive/MyDrive/chatlef/Txt/Modificado/18_7MbNubZixhg.txt\n",
            "Palabras entre corchetes eliminadas en el archivo 17_TLUMH0UdZ2Q.txt y guardado en /content/drive/MyDrive/chatlef/Txt/Modificado/17_TLUMH0UdZ2Q.txt\n",
            "Palabras entre corchetes eliminadas en el archivo 16_b_3_B-Ej_9I.txt y guardado en /content/drive/MyDrive/chatlef/Txt/Modificado/16_b_3_B-Ej_9I.txt\n",
            "Palabras entre corchetes eliminadas en el archivo 15_jaIg4s6iIiI.txt y guardado en /content/drive/MyDrive/chatlef/Txt/Modificado/15_jaIg4s6iIiI.txt\n",
            "Palabras entre corchetes eliminadas en el archivo 14_77arfIsarXI.txt y guardado en /content/drive/MyDrive/chatlef/Txt/Modificado/14_77arfIsarXI.txt\n",
            "Palabras entre corchetes eliminadas en el archivo 13_oVYt4UtkvPI.txt y guardado en /content/drive/MyDrive/chatlef/Txt/Modificado/13_oVYt4UtkvPI.txt\n",
            "Palabras entre corchetes eliminadas en el archivo 12_F0NqID55iJk.txt y guardado en /content/drive/MyDrive/chatlef/Txt/Modificado/12_F0NqID55iJk.txt\n",
            "Palabras entre corchetes eliminadas en el archivo 11_PL0Mc-ULZeI.txt y guardado en /content/drive/MyDrive/chatlef/Txt/Modificado/11_PL0Mc-ULZeI.txt\n",
            "Palabras entre corchetes eliminadas en el archivo 10_wHbg-O1P-Nc.txt y guardado en /content/drive/MyDrive/chatlef/Txt/Modificado/10_wHbg-O1P-Nc.txt\n",
            "Palabras entre corchetes eliminadas en el archivo 9_SOvyzc_pwoI.txt y guardado en /content/drive/MyDrive/chatlef/Txt/Modificado/9_SOvyzc_pwoI.txt\n",
            "Palabras entre corchetes eliminadas en el archivo 8_RJUwGLygrOQ.txt y guardado en /content/drive/MyDrive/chatlef/Txt/Modificado/8_RJUwGLygrOQ.txt\n",
            "Palabras entre corchetes eliminadas en el archivo 7_O_VUT1zJRyQ.txt y guardado en /content/drive/MyDrive/chatlef/Txt/Modificado/7_O_VUT1zJRyQ.txt\n",
            "Palabras entre corchetes eliminadas en el archivo 5_XVjzqtohGKM.txt y guardado en /content/drive/MyDrive/chatlef/Txt/Modificado/5_XVjzqtohGKM.txt\n",
            "Palabras entre corchetes eliminadas en el archivo 6_6Npzfhjrkb4.txt y guardado en /content/drive/MyDrive/chatlef/Txt/Modificado/6_6Npzfhjrkb4.txt\n",
            "Palabras entre corchetes eliminadas en el archivo 3_uIrEkVyrFT0.txt y guardado en /content/drive/MyDrive/chatlef/Txt/Modificado/3_uIrEkVyrFT0.txt\n",
            "Palabras entre corchetes eliminadas en el archivo 4_qL_8Un-C2YI.txt y guardado en /content/drive/MyDrive/chatlef/Txt/Modificado/4_qL_8Un-C2YI.txt\n",
            "Palabras entre corchetes eliminadas en el archivo 2_UXxeAYfkdkw.txt y guardado en /content/drive/MyDrive/chatlef/Txt/Modificado/2_UXxeAYfkdkw.txt\n",
            "Palabras entre corchetes eliminadas en el archivo 1_zPw_xqn_Ztk.txt y guardado en /content/drive/MyDrive/chatlef/Txt/Modificado/1_zPw_xqn_Ztk.txt\n",
            "Palabras entre corchetes eliminadas en el archivo 65_pXvL-uOaRH8.txt y guardado en /content/drive/MyDrive/chatlef/Txt/Modificado/65_pXvL-uOaRH8.txt\n",
            "Palabras entre corchetes eliminadas en el archivo 63_VnpQ4YUjWA0.txt y guardado en /content/drive/MyDrive/chatlef/Txt/Modificado/63_VnpQ4YUjWA0.txt\n",
            "Palabras entre corchetes eliminadas en el archivo 64_ScYQUYOx3r8.txt y guardado en /content/drive/MyDrive/chatlef/Txt/Modificado/64_ScYQUYOx3r8.txt\n",
            "Palabras entre corchetes eliminadas en el archivo 62_HntJvF737to.txt y guardado en /content/drive/MyDrive/chatlef/Txt/Modificado/62_HntJvF737to.txt\n",
            "Palabras entre corchetes eliminadas en el archivo 60_dv7dK-Zm89I.txt y guardado en /content/drive/MyDrive/chatlef/Txt/Modificado/60_dv7dK-Zm89I.txt\n",
            "Palabras entre corchetes eliminadas en el archivo 61_cAjvXLESveo.txt y guardado en /content/drive/MyDrive/chatlef/Txt/Modificado/61_cAjvXLESveo.txt\n",
            "Palabras entre corchetes eliminadas en el archivo 58_eEO4d-c15lU.txt y guardado en /content/drive/MyDrive/chatlef/Txt/Modificado/58_eEO4d-c15lU.txt\n",
            "Palabras entre corchetes eliminadas en el archivo 57_Ehw9F3Mi9QI.txt y guardado en /content/drive/MyDrive/chatlef/Txt/Modificado/57_Ehw9F3Mi9QI.txt\n",
            "Palabras entre corchetes eliminadas en el archivo 55_DCoVqxi-EjY.txt y guardado en /content/drive/MyDrive/chatlef/Txt/Modificado/55_DCoVqxi-EjY.txt\n",
            "Palabras entre corchetes eliminadas en el archivo 54_S9PHei3dbsA.txt y guardado en /content/drive/MyDrive/chatlef/Txt/Modificado/54_S9PHei3dbsA.txt\n",
            "Palabras entre corchetes eliminadas en el archivo 59_q2Jteb_auXU.txt y guardado en /content/drive/MyDrive/chatlef/Txt/Modificado/59_q2Jteb_auXU.txt\n",
            "Palabras entre corchetes eliminadas en el archivo 56_geVYnK3p2CE.txt y guardado en /content/drive/MyDrive/chatlef/Txt/Modificado/56_geVYnK3p2CE.txt\n",
            "Palabras entre corchetes eliminadas en el archivo 53_XLAdvjbQe6M.txt y guardado en /content/drive/MyDrive/chatlef/Txt/Modificado/53_XLAdvjbQe6M.txt\n",
            "Palabras entre corchetes eliminadas en el archivo 52_fVKkpb5q1Oc.txt y guardado en /content/drive/MyDrive/chatlef/Txt/Modificado/52_fVKkpb5q1Oc.txt\n",
            "Palabras entre corchetes eliminadas en el archivo 51_zMF966bkKvY.txt y guardado en /content/drive/MyDrive/chatlef/Txt/Modificado/51_zMF966bkKvY.txt\n",
            "Palabras entre corchetes eliminadas en el archivo 50_s-Yg52wSNKc.txt y guardado en /content/drive/MyDrive/chatlef/Txt/Modificado/50_s-Yg52wSNKc.txt\n",
            "Palabras entre corchetes eliminadas en el archivo 49_MANTtPfb1G0.txt y guardado en /content/drive/MyDrive/chatlef/Txt/Modificado/49_MANTtPfb1G0.txt\n",
            "Palabras entre corchetes eliminadas en el archivo 48_XOBv5U1nHws.txt y guardado en /content/drive/MyDrive/chatlef/Txt/Modificado/48_XOBv5U1nHws.txt\n",
            "Palabras entre corchetes eliminadas en el archivo 47_XjDrboUA5Oc.txt y guardado en /content/drive/MyDrive/chatlef/Txt/Modificado/47_XjDrboUA5Oc.txt\n",
            "Palabras entre corchetes eliminadas en el archivo 46_Eyo9M8LH01s.txt y guardado en /content/drive/MyDrive/chatlef/Txt/Modificado/46_Eyo9M8LH01s.txt\n",
            "Palabras entre corchetes eliminadas en el archivo 45_YpgjXhaos9M.txt y guardado en /content/drive/MyDrive/chatlef/Txt/Modificado/45_YpgjXhaos9M.txt\n",
            "Palabras entre corchetes eliminadas en el archivo 44_R7HAfYlQsNc.txt y guardado en /content/drive/MyDrive/chatlef/Txt/Modificado/44_R7HAfYlQsNc.txt\n",
            "Palabras entre corchetes eliminadas en el archivo 43_Tbd-YAcInOI.txt y guardado en /content/drive/MyDrive/chatlef/Txt/Modificado/43_Tbd-YAcInOI.txt\n",
            "Palabras entre corchetes eliminadas en el archivo 41_1rbpnqTIXRk.txt y guardado en /content/drive/MyDrive/chatlef/Txt/Modificado/41_1rbpnqTIXRk.txt\n",
            "Palabras entre corchetes eliminadas en el archivo 42_IrySbxp1lnA.txt y guardado en /content/drive/MyDrive/chatlef/Txt/Modificado/42_IrySbxp1lnA.txt\n",
            "Palabras entre corchetes eliminadas en el archivo 39_6pNLOlOH7vg.txt y guardado en /content/drive/MyDrive/chatlef/Txt/Modificado/39_6pNLOlOH7vg.txt\n",
            "Palabras entre corchetes eliminadas en el archivo 40_mdiQ8x2IB2w.txt y guardado en /content/drive/MyDrive/chatlef/Txt/Modificado/40_mdiQ8x2IB2w.txt\n",
            "Palabras entre corchetes eliminadas en el archivo 38_TnLbGAKQGyE.txt y guardado en /content/drive/MyDrive/chatlef/Txt/Modificado/38_TnLbGAKQGyE.txt\n",
            "Palabras entre corchetes eliminadas en el archivo 37_0KCVEQp9AzE.txt y guardado en /content/drive/MyDrive/chatlef/Txt/Modificado/37_0KCVEQp9AzE.txt\n",
            "Palabras entre corchetes eliminadas en el archivo 36_ohHO3qSj9pM.txt y guardado en /content/drive/MyDrive/chatlef/Txt/Modificado/36_ohHO3qSj9pM.txt\n",
            "Palabras entre corchetes eliminadas en el archivo 35_Vr5mQ6m-WKA.txt y guardado en /content/drive/MyDrive/chatlef/Txt/Modificado/35_Vr5mQ6m-WKA.txt\n",
            "Palabras entre corchetes eliminadas en el archivo 34_B0Q6OW0xQpY.txt y guardado en /content/drive/MyDrive/chatlef/Txt/Modificado/34_B0Q6OW0xQpY.txt\n",
            "Palabras entre corchetes eliminadas en el archivo 33_frbxynGYOSQ.txt y guardado en /content/drive/MyDrive/chatlef/Txt/Modificado/33_frbxynGYOSQ.txt\n",
            "Palabras entre corchetes eliminadas en el archivo 32_1rBuE0-juks.txt y guardado en /content/drive/MyDrive/chatlef/Txt/Modificado/32_1rBuE0-juks.txt\n"
          ]
        }
      ]
    }
  ]
}