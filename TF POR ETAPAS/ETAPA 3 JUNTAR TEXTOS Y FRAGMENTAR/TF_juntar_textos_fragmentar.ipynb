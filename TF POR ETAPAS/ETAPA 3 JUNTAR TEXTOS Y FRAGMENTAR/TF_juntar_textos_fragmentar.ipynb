{
  "cells": [
    {
      "cell_type": "markdown",
      "metadata": {
        "id": "zqlqm04SWDfL"
      },
      "source": [
        "\n",
        "\n",
        "12-02-24 Juntar diferentes archivos de texto en uno solo y Segmentar el texto completo\n",
        "\n"
      ]
    },
    {
      "cell_type": "code",
      "execution_count": null,
      "metadata": {
        "id": "JzNfeiscqr_c"
      },
      "outputs": [],
      "source": [
        "!pip install langchain -q\n",
        "!pip install pytube -q\n",
        "!pip install youtube-transcript-api\n",
        "!pip install google-colab\n",
        "from langchain.document_loaders import YoutubeLoader\n",
        "from pytube import YouTube\n",
        "from google.colab import files # se utiliza para bajar los archivos txt\n",
        "!pip install docx2txt -q # PARA TRABAJAR CON ARCHIVOS TXT\n",
        "import docx2txt"
      ]
    },
    {
      "cell_type": "markdown",
      "metadata": {
        "id": "U15nNjI47dtm"
      },
      "source": [
        "CODIGO PARA HACER JOIN DESDE EL COLAB USANDO UNA CARPETA GUARDADA CON LOS TEXTOS DE CADA CLASE"
      ]
    },
    {
      "cell_type": "code",
      "execution_count": null,
      "metadata": {
        "id": "rJYzCP9-7dtm"
      },
      "outputs": [],
      "source": [
        "from google.colab import drive\n",
        "import os\n",
        "\n",
        "# Montar Google Drive\n",
        "drive.mount('/content/drive')\n",
        "\n",
        "def cargar_archivo(archivo):\n",
        "    with open(archivo, 'r', encoding='utf-8') as file:\n",
        "        contenido = file.read()\n",
        "    return contenido\n",
        "\n",
        "def join_archivos(lista_archivos):\n",
        "    contenido_total = ''\n",
        "    for archivo in lista_archivos:\n",
        "        contenido_archivo = cargar_archivo(archivo)\n",
        "        contenido_total += contenido_archivo\n",
        "    return contenido_total\n",
        "\n",
        "# Directorio donde se encuentran los archivos en Google Drive\n",
        "directorio = '/content/drive/My Drive/TEXTOS CLASES'\n",
        "\n",
        "# Generar la lista de archivos en el directorio\n",
        "lista_archivos = [os.path.join(directorio, archivo) for archivo in os.listdir(directorio) if archivo.endswith('.txt')]\n",
        "\n",
        "# Unir los archivos\n",
        "contenido_unido = join_archivos(lista_archivos)\n",
        "\n",
        "# Imprimir el contenido unido\n",
        "print(contenido_unido)\n"
      ]
    },
    {
      "cell_type": "markdown",
      "metadata": {
        "id": "J4sI3SBs7dto"
      },
      "source": [
        "En este código:\n",
        "\n",
        "drive.mount('/content/drive') monta tu Google Drive en la ubicación /content/drive de Google Colab.\n",
        "\n",
        "os.listdir(directorio) obtiene una lista de todos los archivos en el directorio especificado.\n",
        "\n",
        "os.path.join(directorio, archivo) combina el nombre del directorio con el nombre de cada archivo para obtener la ruta completa de cada archivo.\n",
        "\n",
        "lista_archivos contiene todas las rutas de archivos en la carpeta especificada que tienen la extensión .txt.\n",
        "\n",
        "contenido_unido contiene el contenido unido de todos los archivos de texto en la carpeta especificada."
      ]
    },
    {
      "cell_type": "code",
      "source": [
        "print(len(contenido_unido))"
      ],
      "metadata": {
        "id": "jhiR-8kp_E0H"
      },
      "execution_count": null,
      "outputs": []
    },
    {
      "cell_type": "code",
      "source": [
        "contenido_unido[714]"
      ],
      "metadata": {
        "id": "SJmBTgui_YZD"
      },
      "execution_count": null,
      "outputs": []
    },
    {
      "cell_type": "markdown",
      "source": [
        "DESCARGAMOS EL ARCHIVO CONTENIDO_UNIDO (ANTES LO CREAMOS DE TIPO TXT)"
      ],
      "metadata": {
        "id": "xfBrbQOcAyzd"
      }
    },
    {
      "cell_type": "code",
      "source": [
        "# Nombre del archivo de texto que deseas crear\n",
        "nombre_archivo = 'contenido_unido.txt'\n",
        "\n",
        "# Escribir el contenido del arreglo en el archivo de texto\n",
        "with open(nombre_archivo, 'w') as f:\n",
        "    for linea in contenido_unido:\n",
        "        f.write(linea)\n",
        "\n",
        "# Descargar el archivo\n",
        "from google.colab import files\n",
        "files.download(nombre_archivo)\n"
      ],
      "metadata": {
        "id": "jwCUlcXRCv6R"
      },
      "execution_count": null,
      "outputs": []
    },
    {
      "cell_type": "markdown",
      "source": [
        "AHORA SEPARAMOS LOS TEXTOS UNIDOS EN FRAGMENTOS O TRAMOS CON SOLAPAMIENTO"
      ],
      "metadata": {
        "id": "Mu7vhN0X_5s0"
      }
    },
    {
      "cell_type": "code",
      "source": [
        "def cargar_documento(archivo):\n",
        "    with open(archivo, 'r', encoding='utf-8') as file:\n",
        "        data = file.read()\n",
        "    return data\n",
        "\n",
        "def fragmentar_documento(documento, longitud_tramo=200, solapamiento=20):\n",
        "    tramos = []\n",
        "    inicio = 0\n",
        "    while inicio < len(documento):\n",
        "        fin = min(inicio + longitud_tramo, len(documento))\n",
        "        tramo = documento[inicio:fin]\n",
        "        tramos.append(tramo)\n",
        "        inicio += longitud_tramo - solapamiento\n",
        "    return tramos\n",
        "\n",
        "# Cargar el documento\n",
        "documento = cargar_documento('/content/drive/MyDrive/contenido_unido.txt')\n",
        "\n",
        "# Fragmentar el documento en tramos de 200 caracteres con un solapamiento de 20 caracteres\n",
        "tramos = fragmentar_documento(documento)\n",
        "\n",
        "# Imprimir cada tramo por separado\n",
        "for i, tramo in enumerate(tramos, start=1):\n",
        "    print(f\"Tramo {i}:\")\n",
        "    print(tramo)\n",
        "    print(\"-----------------------------\")\n"
      ],
      "metadata": {
        "id": "pys6Kpn9_6PO"
      },
      "execution_count": null,
      "outputs": []
    },
    {
      "cell_type": "code",
      "source": [
        "print(len(tramos))"
      ],
      "metadata": {
        "colab": {
          "base_uri": "https://localhost:8080/"
        },
        "id": "tmBWXdKcoQ5q",
        "outputId": "fdc59526-4a3d-4690-9ede-1da36ecfb349"
      },
      "execution_count": 41,
      "outputs": [
        {
          "output_type": "stream",
          "name": "stdout",
          "text": [
            "865\n"
          ]
        }
      ]
    },
    {
      "cell_type": "code",
      "source": [
        "tramos[745]"
      ],
      "metadata": {
        "id": "QUUakgcboR2l"
      },
      "execution_count": null,
      "outputs": []
    },
    {
      "cell_type": "markdown",
      "source": [
        "GUARDAMOS LOS TRAMOS EN UN ÚNICO ARCHIVO DE TEXTO"
      ],
      "metadata": {
        "id": "9E3DWUhs8Hlg"
      }
    },
    {
      "cell_type": "code",
      "source": [
        "# Guardar los tramos en un archivo de texto único\n",
        "with open('tramos.txt', 'w', encoding='utf-8') as file:\n",
        "    for tramo in tramos:\n",
        "        file.write(tramo + '\\n')\n",
        "        file.write('-' * 50 + '\\n')  # Agregar un separador después de cada tramo\n",
        "\n",
        "print(\"Tramos guardados en 'tramos.txt'\")"
      ],
      "metadata": {
        "id": "I9db9Ulc70s7"
      },
      "execution_count": null,
      "outputs": []
    },
    {
      "cell_type": "markdown",
      "source": [
        "DESCARGAMOS ESE ARCHIVO ÚNICO"
      ],
      "metadata": {
        "id": "2v39-Ix_8P09"
      }
    },
    {
      "cell_type": "code",
      "source": [
        "from google.colab import files\n",
        "\n",
        "# Descargar el archivo 'tramos.txt'\n",
        "files.download('tramos.txt')"
      ],
      "metadata": {
        "id": "5SYdk28L7B57"
      },
      "execution_count": null,
      "outputs": []
    }
  ],
  "metadata": {
    "accelerator": "GPU",
    "colab": {
      "gpuType": "T4",
      "provenance": []
    },
    "kernelspec": {
      "display_name": "Python 3",
      "name": "python3"
    },
    "language_info": {
      "name": "python"
    }
  },
  "nbformat": 4,
  "nbformat_minor": 0
}