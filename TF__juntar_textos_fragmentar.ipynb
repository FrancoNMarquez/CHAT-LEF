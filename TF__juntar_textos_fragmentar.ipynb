{
  "nbformat": 4,
  "nbformat_minor": 0,
  "metadata": {
    "colab": {
      "provenance": []
    },
    "kernelspec": {
      "name": "python3",
      "display_name": "Python 3"
    },
    "language_info": {
      "name": "python"
    }
  },
  "cells": [
    {
      "cell_type": "markdown",
      "source": [
        "EN ESTE CODIGO SE ORDENAN LOS TEXTOS DE LOS VODEOS Y SE LOS JUNTA"
      ],
      "metadata": {
        "id": "ai_fNGfKqwzC"
      }
    },
    {
      "cell_type": "code",
      "source": [
        "from google.colab import drive\n",
        "import os\n",
        "from google.colab import files\n",
        "\n",
        "# Montar Google Drive en el entorno de Colab\n",
        "drive.mount('/content/drive')\n",
        "\n",
        "# Ruta de la carpeta que contiene los archivos .txt en Google Drive\n",
        "carpeta = '/content/drive/My Drive/Archivos/NLP/Modificado'  # RUTA: OJO, PONER LA RUTA CORRECTA SEGUN CADA UNO\n",
        "\n",
        "# Generar la lista de nombres de archivo en el orden deseado\n",
        "orden_archivos = ['perfilProfe.txt', 'participantes.txt'] + [f'V{i}.txt' for i in range(1, 67)]\n",
        "\n",
        "# Lista para almacenar el contenido de todos los archivos\n",
        "contenido_total = []\n",
        "\n",
        "# Iterar sobre los archivos en el orden específico\n",
        "for archivo in orden_archivos:\n",
        "    ruta_archivo = os.path.join(carpeta, archivo)\n",
        "    with open(ruta_archivo, 'r') as f:\n",
        "        contenido_archivo = f.readlines()  # Leer el contenido del archivo\n",
        "        contenido_total.extend(contenido_archivo)  # Agregar el contenido a la lista total\n",
        "\n",
        "# Guardar el contenido combinado en un nuevo archivo\n",
        "ruta_salida = '/content/drive/My Drive/Archivos/NLP/Modificado/contenido_combinado.txt'  # guarda 'contenido_combinado.txt' en el drive\n",
        "with open(ruta_salida, 'w') as f:\n",
        "    f.writelines(contenido_total)\n",
        "\n",
        "# Descargar el archivo combinado\n",
        "files.download(ruta_salida)\n"
      ],
      "metadata": {
        "colab": {
          "base_uri": "https://localhost:8080/",
          "height": 34
        },
        "id": "6g1V1FViqGU_",
        "outputId": "cf6cf9d9-f399-42c5-9b39-c343a81ace55"
      },
      "execution_count": 1,
      "outputs": [
        {
          "output_type": "stream",
          "name": "stdout",
          "text": [
            "Mounted at /content/drive\n"
          ]
        },
        {
          "output_type": "display_data",
          "data": {
            "text/plain": [
              "<IPython.core.display.Javascript object>"
            ],
            "application/javascript": [
              "\n",
              "    async function download(id, filename, size) {\n",
              "      if (!google.colab.kernel.accessAllowed) {\n",
              "        return;\n",
              "      }\n",
              "      const div = document.createElement('div');\n",
              "      const label = document.createElement('label');\n",
              "      label.textContent = `Downloading \"${filename}\": `;\n",
              "      div.appendChild(label);\n",
              "      const progress = document.createElement('progress');\n",
              "      progress.max = size;\n",
              "      div.appendChild(progress);\n",
              "      document.body.appendChild(div);\n",
              "\n",
              "      const buffers = [];\n",
              "      let downloaded = 0;\n",
              "\n",
              "      const channel = await google.colab.kernel.comms.open(id);\n",
              "      // Send a message to notify the kernel that we're ready.\n",
              "      channel.send({})\n",
              "\n",
              "      for await (const message of channel.messages) {\n",
              "        // Send a message to notify the kernel that we're ready.\n",
              "        channel.send({})\n",
              "        if (message.buffers) {\n",
              "          for (const buffer of message.buffers) {\n",
              "            buffers.push(buffer);\n",
              "            downloaded += buffer.byteLength;\n",
              "            progress.value = downloaded;\n",
              "          }\n",
              "        }\n",
              "      }\n",
              "      const blob = new Blob(buffers, {type: 'application/binary'});\n",
              "      const a = document.createElement('a');\n",
              "      a.href = window.URL.createObjectURL(blob);\n",
              "      a.download = filename;\n",
              "      div.appendChild(a);\n",
              "      a.click();\n",
              "      div.remove();\n",
              "    }\n",
              "  "
            ]
          },
          "metadata": {}
        },
        {
          "output_type": "display_data",
          "data": {
            "text/plain": [
              "<IPython.core.display.Javascript object>"
            ],
            "application/javascript": [
              "download(\"download_c8b18890-261f-440b-b2b8-ff0c16a7c3d5\", \"contenido_combinado.txt\", 1624308)"
            ]
          },
          "metadata": {}
        }
      ]
    }
  ]
}