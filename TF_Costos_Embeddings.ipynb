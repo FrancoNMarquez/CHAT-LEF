{
  "cells": [
    {
      "cell_type": "markdown",
      "metadata": {
        "id": "view-in-github",
        "colab_type": "text"
      },
      "source": [
        "<a href=\"https://colab.research.google.com/github/FrancoNMarquez/CHAT-LEF/blob/master/TF_Costos_Embeddings.ipynb\" target=\"_parent\"><img src=\"https://colab.research.google.com/assets/colab-badge.svg\" alt=\"Open In Colab\"/></a>"
      ]
    },
    {
      "cell_type": "markdown",
      "metadata": {
        "id": "Cv3LHKHfNmGe"
      },
      "source": [
        "**Sacar Costo para hacer el embeddings, Preparar indices y subirlo Pinecone**\n"
      ]
    },
    {
      "cell_type": "code",
      "execution_count": null,
      "metadata": {
        "id": "WqybGDneNlmv"
      },
      "outputs": [],
      "source": [
        "!pip install openai -q\n",
        "!pip install langchain -q\n",
        "!pip install tiktoken -q\n",
        "!pip install pinecone-client -q\n",
        "#!pip install pinecone-client --upgrade!\n",
        "!pip install python-dotenv -q\n",
        "!pip install langchain_pinecone ## Subir a pinecone los vectores\n"
      ]
    },
    {
      "cell_type": "code",
      "execution_count": 2,
      "metadata": {
        "colab": {
          "base_uri": "https://localhost:8080/"
        },
        "id": "YUsfo7UNXgBZ",
        "outputId": "1f30d05c-33e2-4112-bde2-60cf25562709"
      },
      "outputs": [
        {
          "output_type": "stream",
          "name": "stdout",
          "text": [
            "Drive already mounted at /content/drive; to attempt to forcibly remount, call drive.mount(\"/content/drive\", force_remount=True).\n"
          ]
        }
      ],
      "source": [
        "import os\n",
        "from google.colab import drive\n",
        "# Montar Google Drive\n",
        "drive.mount('/content/drive')"
      ]
    },
    {
      "cell_type": "code",
      "execution_count": 3,
      "metadata": {
        "colab": {
          "base_uri": "https://localhost:8080/"
        },
        "id": "lUuK-euUf3Uk",
        "outputId": "1561be49-0482-496d-d304-b299cbbcae78"
      },
      "outputs": [
        {
          "output_type": "execute_result",
          "data": {
            "text/plain": [
              "True"
            ]
          },
          "metadata": {},
          "execution_count": 3
        }
      ],
      "source": [
        " # Carga OPENAI_API_KEY\n",
        "from dotenv import load_dotenv, find_dotenv\n",
        "load_dotenv('/content/drive/MyDrive/Archivos/NLP/.env')\n",
        "#os.environ.get(\"OPENAI_API_KEY\")\n"
      ]
    },
    {
      "cell_type": "code",
      "source": [
        "# Leer el txt contenido_combinado.tx para  extraer el txt en el formato que reconoce\n",
        "from langchain_community.document_loaders import TextLoader\n",
        "#loader = TextLoader(\"/content/drive/MyDrive/chatlef/Txt/Modificado/FINAL/contenido_combinado.txt\")\n",
        "loader = TextLoader(\"/content/drive/MyDrive/chatlef/Videos.txt\")\n",
        "\n",
        "documento = loader.load()"
      ],
      "metadata": {
        "id": "8PkrpU8tX6Dk"
      },
      "execution_count": 6,
      "outputs": []
    },
    {
      "cell_type": "code",
      "source": [
        "# Leer los fragmentos del archivo\n",
        "# No funciona cuando lo extremos como un archivo texto al parecer necesita la estructura de datos documento[0].page_content ect...\n",
        "#with open(\"/content/drive/MyDrive/chatlef/Txt/contenido_unido.txt\", \"r\", encoding=\"utf-8\") as file:\n",
        "#    documento = file.readlines()"
      ],
      "metadata": {
        "id": "xbLhWcGtlGbb"
      },
      "execution_count": 55,
      "outputs": []
    },
    {
      "cell_type": "code",
      "source": [
        "# Mostramos algunos datos\n",
        "print(documento)\n",
        "print(len(documento[0].page_content))"
      ],
      "metadata": {
        "colab": {
          "base_uri": "https://localhost:8080/"
        },
        "id": "fiiaX46NYYVu",
        "outputId": "24c5738d-69af-4ef7-9e5b-84676d809cf6"
      },
      "execution_count": 7,
      "outputs": [
        {
          "output_type": "stream",
          "name": "stdout",
          "text": [
            "[Document(page_content='Clase1 (parte 1) https://www.youtube.com/watch?v=zPw_xqn_Ztk  Introducción a conceptos básicos de IA \\nClase1 (parte 2) https://www.youtube.com/watch?v=UXxeAYfkdkw  Herramientas a utilizar en el curso.    \\nClase2 (parte 1) https://www.youtube.com/watch?v=uIrEkVyrFT0  ACCEDIENDO A CONJUNTOS DE DATOS \\nClase2 (parte 2) https://www.youtube.com/watch?v=qL_8Un-C2YI  LIMPIEZA DE DATOS \\nClase3 (parte 1) https://www.youtube.com/watch?v=XVjzqtohGKM  OPERACIONES DE MANEJO DE DATOS \"DATA WRANGLING\"\\nClase3 (parte 2) https://www.youtube.com/watch?v=6Npzfhjrkb4  OPERACIONES DE MANEJO DE DATOS \"DATA WRANGLING\"\\nClase4 (parte 2) https://www.youtube.com/watch?v=O_VUT1zJRyQ  OPERACIONES DE MANEJO DE DATOS \"DATA WRANGLING\" (2da parte)\\nClase5 (parte 1) https://www.youtube.com/watch?v=RJUwGLygrOQ  JOIN DE DATOS\\nClase5 (parte 2) https://www.youtube.com/watch?v=SOvyzc_pwoI  WEB SCRAPING\\nClase6 (parte 1) https://www.youtube.com/watch?v=wHbg-O1P-Nc  Regresión Lineal (teoría) \\nClase6 (parte 2) https://www.youtube.com/watch?v=PL0Mc-ULZeI  Regresión Lineal (Práctica)\\nClase7 (parte 1) https://www.youtube.com/watch?v=F0NqID55iJk  Regresión Logística (teoría)\\nClase7 (parte 2) https://www.youtube.com/watch?v=oVYt4UtkvPI  Regresión Logística (Práctica)\\nClase8 (parte 1) https://www.youtube.com/watch?v=77arfIsarXI&feature=youtu.be  Arboles de Decisión (teoría)\\nClase8 (parte 2) https://www.youtube.com/watch?v=jaIg4s6iIiI&feature=youtu.be  Arboles de Decisión (práctica) \\nClase9 (parte 1) https://www.youtube.com/watch?v=b_3_B-Ej_9I  Bosques Aleatorios (teoría)\\nClase9 (parte 2) https://www.youtube.com/watch?v=TLUMH0UdZ2Q  Bosques Aleatorios (práctica)\\nClase10 (parte 1) https://www.youtube.com/watch?v=7MbNubZixhg Repaso Integral\\nClase10 (parte 2) https://www.youtube.com/watch?v=urDhXUtxGWM Repaso Integral\\nClase11 (parte 1) https://www.youtube.com/watch?v=3Ssh1SsiW6s Maquinas de Soporte Vectorial (teoría)\\nClase11 (parte 2) https://www.youtube.com/watch?v=3vfEIhqZCnY Maquinas de Soporte Vectorial (práctica)\\nClase12 (parte 1) https://www.youtube.com/watch?v=YOdajMsWZAQ Algoritmos No Supervisados - KMEANS (teoría)\\nClase12 (parte 2) https://www.youtube.com/watch?v=_hinMLX5VnI Algoritmos No Supervisados KMEANS (práctica)\\nClase13 (parte 1) https://www.youtube.com/watch?v=NDor8fLB2fg Análisis de Proyectos Publicados\\nClase13 (parte 2) https://www.youtube.com/watch?v=2jAJjJ2WO3Y Análisis de Proyectos Publicados y Condiciones para evaluación final del Modulo\\nClase14 (parte 1) https://www.youtube.com/watch?v=9-iZjJwEk3c Introducción a Redes Neuronales\\nClase14 (parte 2) https://www.youtube.com/watch?v=La9JEBk6ZVU Introducción a Redes Neuronales\\nClase15 (parte 1)https://www.youtube.com/watch?v=UNZz4H_Bx0s  Redes Neuronales - Funciones de Activación\\nClase15 (parte 2) https://www.youtube.com/watch?v=NUlWcTWsfR8 Vulnerabilidad y pesos de las Redes Neuronales\\nClase16 (parte 1) https://www.youtube.com/watch?v=NJKUPY31Ihw Redes Neuronales Artificiales RNA\\nClase16 (parte 2) https://www.youtube.com/watch?v=qgoA7M8msSs Redes Neuronales Artificiales RNA\\nClase17 (parte 1) https://www.youtube.com/watch?v=1rBuE0-juks RNA Redes Neuronales Convolucionales\\nClase17 (parte 2) https://www.youtube.com/watch?v=frbxynGYOSQ RNA Redes Neuronales Convolucionales\\nClase18 (parte 1) https://www.youtube.com/watch?v=B0Q6OW0xQpY Dropout y Aumento de datos para evitar problemas de sobreajuste\\nClase18 (parte 2) https://www.youtube.com/watch?v=Vr5mQ6m-WKA Exportar el modelo para utilizar en entorno web\\nClase19 (parte 1) https://www.youtube.com/watch?v=ohHO3qSj9pM Clasificación de objetos con YOLOv8\\nClase19 (parte 2) https://www.youtube.com/watch?v=0KCVEQp9AzE Clasificación de objetos con YOLOv8\\nClase20 (parte 1) https://www.youtube.com/watch?v=TnLbGAKQGyE YOLO para detección de objetos\\nClase20 (parte 2) https://www.youtube.com/watch?v=6pNLOlOH7vg YOLO para detección de objetos\\nClase21 (parte 1) https://www.youtube.com/watch?v=mdiQ8x2IB2w Detección de objetos con YOLO y Hard Hat Workers Dataset\\nClase21 (parte 2) https://www.youtube.com/watch?v=1rbpnqTIXRk Detección de objetos con YOLO y Hard Hat Workers Dataset\\nClase22 (parte 1) https://www.youtube.com/watch?v=IrySbxp1lnA Segmentación de objetos con YOLO\\nClase22 (parte 2) https://www.youtube.com/watch?v=Tbd-YAcInOI Identificación de partes del rostro con Mediapipe FaceMesh\\nClase23 (parte 1) https://www.youtube.com/watch?v=R7HAfYlQsNc Reconocimiento de manos con Mediapipe HANDS\\nClase23 (parte 2) https://www.youtube.com/watch?v=YpgjXhaos9M Reconocimiento de cuerpo humano con Mediapipe POSE\\nClase24 (parte 1) https://www.youtube.com/watch?v=Eyo9M8LH01s Tracking con YoloV8+SORT\\nClase24 (parte 2) https://www.youtube.com/watch?v=XjDrboUA5Oc Image Text Extraction con EasyOCR\\nClase25 (parte 1) https://www.youtube.com/watch?v=XOBv5U1nHws NLP - Conceptos basicos\\nClase25 (parte 2) https://www.youtube.com/watch?v=MANTtPfb1G0 NLP - Conceptos Basicos\\nClase26 (parte 1) https://www.youtube.com/watch?v=s-Yg52wSNKc NLP - Práctica Integral\\nClase26 (parte 2) https://www.youtube.com/watch?v=zMF966bkKvY NLP - Conceptos Básicos\\nClase27 (parte 1) https://www.youtube.com/watch?v=fVKkpb5q1Oc Embeddings\\nClase27 (parte 2) https://www.youtube.com/watch?v=XLAdvjbQe6M Generacion de Embeddings propios con Word2Vec\\nClase28 (parte 1) https://www.youtube.com/watch?v=S9PHei3dbsA NLP con Redes Neuronales Recurrentes\\nClase28 (parte 2) https://www.youtube.com/watch?v=DCoVqxi-EjY NLP - Redes Neuronales Recurrentes + LSTM\\nClase29 (parte 1) https://www.youtube.com/watch?v=geVYnK3p2CE Langchain - Componentes principales\\nClase29 (parte 2) https://www.youtube.com/watch?v=Ehw9F3Mi9QI Langchain - Componentes principales\\nClase30 (parte 1) https://www.youtube.com/watch?v=eEO4d-c15lU LANGCHAIN - Sistema de respuesta con base de datos propia en PDF\\nClase30 (parte 2) https://www.youtube.com/watch?v=q2Jteb_auXU LANGCHAIN - Sistema de respuesta con base de datos propia en PDF\\nClase31 (parte 1) https://www.youtube.com/watch?v=dv7dK-Zm89I Resumir textos desde archivos PDF\\nClase31 (parte 2) https://www.youtube.com/watch?v=cAjvXLESveo Resumen de texto desde archivos MP4 o Video YouTube\\nClase32 (parte 1) https://www.youtube.com/watch?v=HntJvF737to GPT4 para Análisis de Datos\\nClase32 (parte 2) https://www.youtube.com/watch?v=VnpQ4YUjWA0 GPT4 para Análisis de Datos\\nClase 1           https://www.youtube.com/watch?v=ScYQUYOx3r8  CLASE 01 PYTHON PARA PROGRAMADORES                                                            \\nClase 2           https://www.youtube.com/watch?v=pXvL-uOaRH8  CLASE 02 PROGRAMACION PYTHON                                      \\nClase 3           https://www.youtube.com/watch?v=TBhFBnko0Gk  CLASE 03 PYTHON PROGRAMADORES', metadata={'source': '/content/drive/MyDrive/chatlef/Videos.txt'})]\n",
            "6663\n"
          ]
        }
      ]
    },
    {
      "cell_type": "code",
      "source": [
        "# Fragmentacion\n",
        "from langchain.text_splitter import RecursiveCharacterTextSplitter as RC\n",
        "text_splitter=RC(chunk_size=200,chunk_overlap=20,length_function=len)\n",
        "fragmentos=text_splitter.split_documents(documento)\n",
        "print(len(fragmentos))"
      ],
      "metadata": {
        "colab": {
          "base_uri": "https://localhost:8080/"
        },
        "id": "Mbwfv0M5XnET",
        "outputId": "7e28ea22-98f5-41d8-b0b3-fcf0d036ff3b"
      },
      "execution_count": 8,
      "outputs": [
        {
          "output_type": "stream",
          "name": "stdout",
          "text": [
            "48\n"
          ]
        }
      ]
    },
    {
      "cell_type": "code",
      "source": [
        "fragmentos[40].page_content"
      ],
      "metadata": {
        "colab": {
          "base_uri": "https://localhost:8080/",
          "height": 35
        },
        "id": "dSeYAN4-Yz8N",
        "outputId": "f189e683-fde5-47bc-cb4c-c19fcc0751d5"
      },
      "execution_count": 9,
      "outputs": [
        {
          "output_type": "execute_result",
          "data": {
            "text/plain": [
              "'Clase30 (parte 1) https://www.youtube.com/watch?v=eEO4d-c15lU LANGCHAIN - Sistema de respuesta con base de datos propia en PDF'"
            ],
            "application/vnd.google.colaboratory.intrinsic+json": {
              "type": "string"
            }
          },
          "metadata": {},
          "execution_count": 9
        }
      ]
    },
    {
      "cell_type": "code",
      "execution_count": 10,
      "metadata": {
        "id": "SyGxtcRGNfjV"
      },
      "outputs": [],
      "source": [
        "# Para sacar el presupuesto\n",
        "def print_embedding_cost(texts):\n",
        "    import tiktoken\n",
        "    # Obtener el codificador para el modelo de embedding\n",
        "    enc = tiktoken.encoding_for_model(\"text-embedding-ada-002\")\n",
        "    # Calcular el número total de tokens para todos los textos\n",
        "    total_tokens = sum([len(enc.encode(text)) for text in texts])\n",
        "    # Calcular el costo estimado del embedding (suponiendo $0.0001 por cada 1000 tokens)\n",
        "    embedding_cost = (total_tokens / 1000) * 0.0001\n",
        "    # Imprimir el costo total y el costo por token\n",
        "    print(f\"Total Tokens: {total_tokens}\")\n",
        "    print(f\"Embedding Cost (USD): {embedding_cost:.5f}\")"
      ]
    },
    {
      "cell_type": "code",
      "execution_count": 11,
      "metadata": {
        "colab": {
          "base_uri": "https://localhost:8080/"
        },
        "id": "GO6blj4MOFso",
        "outputId": "50e47104-27c8-482b-dcec-e83edc94f7e4"
      },
      "outputs": [
        {
          "output_type": "stream",
          "name": "stdout",
          "text": [
            "Total Tokens: 6663\n",
            "Embedding Cost (USD): 0.00067\n"
          ]
        }
      ],
      "source": [
        "\n",
        "# Calcular el costo del embedding de los fragmentos\n",
        "# aca se complico por que no me toma el array de fragmentos, entonces decidi sacarlo del documento directamente el costo seria mayor por el overlap\n",
        "print_embedding_cost(documento[0].page_content)"
      ]
    },
    {
      "cell_type": "code",
      "source": [
        "# Conectarse con Pinecone\n",
        "from pinecone import Pinecone, PodSpec\n",
        "pc = Pinecone(api_key=os.environ.get(\"PINECONE_API_KEY\"))"
      ],
      "metadata": {
        "id": "xRJCYOmzKMH8"
      },
      "execution_count": 12,
      "outputs": []
    },
    {
      "cell_type": "code",
      "source": [
        "pc.list_indexes()"
      ],
      "metadata": {
        "id": "GWGnI9LKnbiK"
      },
      "execution_count": null,
      "outputs": []
    },
    {
      "cell_type": "code",
      "source": [
        "pc.list_indexes().names()"
      ],
      "metadata": {
        "colab": {
          "base_uri": "https://localhost:8080/"
        },
        "id": "h4pfGSCL_kYt",
        "outputId": "a403c757-6ecf-404b-c64e-6051db8b4f70"
      },
      "execution_count": 26,
      "outputs": [
        {
          "output_type": "execute_result",
          "data": {
            "text/plain": [
              "['videos']"
            ]
          },
          "metadata": {},
          "execution_count": 26
        }
      ]
    },
    {
      "cell_type": "code",
      "source": [
        "pc.describe_index(\"videos\")"
      ],
      "metadata": {
        "id": "WU0FDDamI5dT"
      },
      "execution_count": null,
      "outputs": []
    },
    {
      "cell_type": "code",
      "source": [
        "for index in pc.list_indexes():\n",
        "    print(index.name)\n",
        "    print(index.dimension)\n",
        "    print(index.metric)\n",
        "    print(index.status)\n",
        "    print(index.host)\n",
        "    print(index.spec)"
      ],
      "metadata": {
        "id": "T8_s44-hqW-R"
      },
      "execution_count": null,
      "outputs": []
    },
    {
      "cell_type": "code",
      "source": [
        "#Borrar todos los indices\n",
        "for i in pc.list_indexes():\n",
        "    #print(i.name)\n",
        "    pc.delete_index(i.name)"
      ],
      "metadata": {
        "id": "BVo07-rLLllo"
      },
      "execution_count": 73,
      "outputs": []
    },
    {
      "cell_type": "code",
      "source": [
        "# Crear Indice usar (spec=PodSpec) cambio la forma de crearlo\n",
        "indice=\"videos\"\n",
        "if indice not in pc.list_indexes().names():\n",
        "    pc.create_index(\n",
        "      name=indice,\n",
        "      dimension=1536,\n",
        "      metric=\"cosine\",\n",
        "      spec=PodSpec(\n",
        "        environment=\"gcp-starter\",\n",
        "        pod_type=\"p1.x1\",\n",
        "        pods=1\n",
        "      )\n",
        "    )"
      ],
      "metadata": {
        "id": "Vy_vX3TjKoTD"
      },
      "execution_count": 74,
      "outputs": []
    },
    {
      "cell_type": "markdown",
      "metadata": {
        "id": "mzn1IusYkGX1"
      },
      "source": [
        "Crear Embeddings"
      ]
    },
    {
      "cell_type": "code",
      "source": [
        "from langchain.embeddings import OpenAIEmbeddings\n",
        "#embeddings=OpenAIEmbeddings()\n",
        "model_name = 'text-embedding-ada-002'\n",
        "OPENAI_API_KEY=os.environ.get(\"OPENAI_API_KEY\")\n",
        "embeddings= OpenAIEmbeddings(\n",
        "    model=model_name,\n",
        "    openai_api_key=OPENAI_API_KEY\n",
        ")"
      ],
      "metadata": {
        "colab": {
          "base_uri": "https://localhost:8080/"
        },
        "id": "9N5OoJj2D3fJ",
        "outputId": "4696ecaa-eaa4-416f-ff42-1f91b67d3d3b"
      },
      "execution_count": 15,
      "outputs": [
        {
          "output_type": "stream",
          "name": "stderr",
          "text": [
            "/usr/local/lib/python3.10/dist-packages/langchain_core/_api/deprecation.py:117: LangChainDeprecationWarning: The class `langchain_community.embeddings.openai.OpenAIEmbeddings` was deprecated in langchain-community 0.1.0 and will be removed in 0.2.0. An updated version of the class exists in the langchain-openai package and should be used instead. To use it run `pip install -U langchain-openai` and import as `from langchain_openai import OpenAIEmbeddings`.\n",
            "  warn_deprecated(\n"
          ]
        }
      ]
    },
    {
      "cell_type": "code",
      "source": [
        "## Subir a pinecone los vectores\n",
        "from langchain_pinecone import Pinecone\n",
        "index_name = \"videos\"\n",
        "docsearch = Pinecone.from_documents(fragmentos, embeddings, index_name=index_name)"
      ],
      "metadata": {
        "id": "UqanIH7apBIo"
      },
      "execution_count": 76,
      "outputs": []
    },
    {
      "cell_type": "code",
      "source": [
        "fragmentos[1].page_content"
      ],
      "metadata": {
        "colab": {
          "base_uri": "https://localhost:8080/",
          "height": 53
        },
        "id": "DsTcAfTMkgsT",
        "outputId": "0e0d6b06-c3bd-4b0d-edd2-976c58712552"
      },
      "execution_count": 20,
      "outputs": [
        {
          "output_type": "execute_result",
          "data": {
            "text/plain": [
              "'Clase1 (parte 2) https://www.youtube.com/watch?v=UXxeAYfkdkw  Herramientas a utilizar en el curso.    \\nClase2 (parte 1) https://www.youtube.com/watch?v=uIrEkVyrFT0  ACCEDIENDO A CONJUNTOS DE DATOS'"
            ],
            "application/vnd.google.colaboratory.intrinsic+json": {
              "type": "string"
            }
          },
          "metadata": {},
          "execution_count": 20
        }
      ]
    },
    {
      "cell_type": "code",
      "source": [
        "# Agregar vectores a un indice existente En caso que querramos incorporar mas datos a nuestro embedding\n",
        "from langchain_pinecone import Pinecone\n",
        "index_name = \"videos\"\n",
        "vectorstore = Pinecone(index_name=index_name, embedding=embeddings)\n",
        "texts = [doc.page_content for doc in fragmentos]\n",
        "vectorstore.add_texts(texts)\n"
      ],
      "metadata": {
        "colab": {
          "base_uri": "https://localhost:8080/"
        },
        "id": "63MQsIr5jvJs",
        "outputId": "4ace842f-500f-4eb4-82c9-ebaacf200689"
      },
      "execution_count": 39,
      "outputs": [
        {
          "output_type": "execute_result",
          "data": {
            "text/plain": [
              "['1249de53-fe3d-467a-93f1-a793243854cf',\n",
              " 'c881fbeb-7709-44b8-bbee-8e1a5d3c93ba',\n",
              " '073abd64-3891-426d-9479-9af85596b7c8',\n",
              " 'd17d210b-9610-4c7e-843b-8146688bd271']"
            ]
          },
          "metadata": {},
          "execution_count": 39
        }
      ]
    },
    {
      "cell_type": "code",
      "source": [
        "texts"
      ],
      "metadata": {
        "id": "kUaA0Z7Q5Cxe"
      },
      "execution_count": null,
      "outputs": []
    },
    {
      "cell_type": "markdown",
      "source": [
        "Documentacion importante\n",
        "\n",
        " https://python.langchain.com/docs/integrations/vectorstores/pinecone\n"
      ],
      "metadata": {
        "id": "TbKg8ytipWp_"
      }
    }
  ],
  "metadata": {
    "colab": {
      "provenance": [],
      "gpuType": "T4",
      "mount_file_id": "1jhMPxM3gWLKQVL7qtxWE3StSPxPxL09n",
      "authorship_tag": "ABX9TyPIvypYn+w9j+ik1AhgNULc",
      "include_colab_link": true
    },
    "kernelspec": {
      "display_name": "Python 3",
      "name": "python3"
    },
    "language_info": {
      "name": "python"
    }
  },
  "nbformat": 4,
  "nbformat_minor": 0
}