{
  "nbformat": 4,
  "nbformat_minor": 0,
  "metadata": {
    "colab": {
      "provenance": [],
      "mount_file_id": "1JxFx1r92Ot7FpE-1tmy2UK3iPbLTqhVf",
      "authorship_tag": "ABX9TyPdMelSmbZDUbswmOBDRhEK",
      "include_colab_link": true
    },
    "kernelspec": {
      "name": "python3",
      "display_name": "Python 3"
    },
    "language_info": {
      "name": "python"
    }
  },
  "cells": [
    {
      "cell_type": "markdown",
      "metadata": {
        "id": "view-in-github",
        "colab_type": "text"
      },
      "source": [
        "<a href=\"https://colab.research.google.com/github/FrancoNMarquez/CHAT-LEF/blob/master/TF_obtener_txt.ipynb\" target=\"_parent\"><img src=\"https://colab.research.google.com/assets/colab-badge.svg\" alt=\"Open In Colab\"/></a>"
      ]
    },
    {
      "cell_type": "markdown",
      "source": [],
      "metadata": {
        "id": "84XikHzAVEHl"
      }
    },
    {
      "cell_type": "markdown",
      "source": [
        "\n",
        "\n",
        "05-02-24 Extraer texto de **youtube**\n",
        "\n"
      ],
      "metadata": {
        "id": "zqlqm04SWDfL"
      }
    },
    {
      "cell_type": "code",
      "execution_count": 11,
      "metadata": {
        "id": "JzNfeiscqr_c",
        "colab": {
          "base_uri": "https://localhost:8080/"
        },
        "outputId": "5673e99e-6815-4350-c9b1-e37e792a82e8"
      },
      "outputs": [
        {
          "output_type": "stream",
          "name": "stdout",
          "text": [
            "Requirement already satisfied: youtube-transcript-api in /usr/local/lib/python3.10/dist-packages (0.6.2)\n",
            "Requirement already satisfied: requests in /usr/local/lib/python3.10/dist-packages (from youtube-transcript-api) (2.31.0)\n",
            "Requirement already satisfied: charset-normalizer<4,>=2 in /usr/local/lib/python3.10/dist-packages (from requests->youtube-transcript-api) (3.3.2)\n",
            "Requirement already satisfied: idna<4,>=2.5 in /usr/local/lib/python3.10/dist-packages (from requests->youtube-transcript-api) (3.6)\n",
            "Requirement already satisfied: urllib3<3,>=1.21.1 in /usr/local/lib/python3.10/dist-packages (from requests->youtube-transcript-api) (2.0.7)\n",
            "Requirement already satisfied: certifi>=2017.4.17 in /usr/local/lib/python3.10/dist-packages (from requests->youtube-transcript-api) (2024.2.2)\n",
            "Requirement already satisfied: google-colab in /usr/local/lib/python3.10/dist-packages (1.0.0)\n",
            "Requirement already satisfied: google-auth==2.27.0 in /usr/local/lib/python3.10/dist-packages (from google-colab) (2.27.0)\n",
            "Requirement already satisfied: ipykernel==5.5.6 in /usr/local/lib/python3.10/dist-packages (from google-colab) (5.5.6)\n",
            "Requirement already satisfied: ipython==7.34.0 in /usr/local/lib/python3.10/dist-packages (from google-colab) (7.34.0)\n",
            "Requirement already satisfied: notebook==6.5.5 in /usr/local/lib/python3.10/dist-packages (from google-colab) (6.5.5)\n",
            "Requirement already satisfied: pandas==1.5.3 in /usr/local/lib/python3.10/dist-packages (from google-colab) (1.5.3)\n",
            "Requirement already satisfied: portpicker==1.5.2 in /usr/local/lib/python3.10/dist-packages (from google-colab) (1.5.2)\n",
            "Requirement already satisfied: requests==2.31.0 in /usr/local/lib/python3.10/dist-packages (from google-colab) (2.31.0)\n",
            "Requirement already satisfied: tornado==6.3.2 in /usr/local/lib/python3.10/dist-packages (from google-colab) (6.3.2)\n",
            "Requirement already satisfied: cachetools<6.0,>=2.0.0 in /usr/local/lib/python3.10/dist-packages (from google-auth==2.27.0->google-colab) (5.3.2)\n",
            "Requirement already satisfied: pyasn1-modules>=0.2.1 in /usr/local/lib/python3.10/dist-packages (from google-auth==2.27.0->google-colab) (0.3.0)\n",
            "Requirement already satisfied: rsa<5,>=3.1.4 in /usr/local/lib/python3.10/dist-packages (from google-auth==2.27.0->google-colab) (4.9)\n",
            "Requirement already satisfied: ipython-genutils in /usr/local/lib/python3.10/dist-packages (from ipykernel==5.5.6->google-colab) (0.2.0)\n",
            "Requirement already satisfied: traitlets>=4.1.0 in /usr/local/lib/python3.10/dist-packages (from ipykernel==5.5.6->google-colab) (5.7.1)\n",
            "Requirement already satisfied: jupyter-client in /usr/local/lib/python3.10/dist-packages (from ipykernel==5.5.6->google-colab) (6.1.12)\n",
            "Requirement already satisfied: setuptools>=18.5 in /usr/local/lib/python3.10/dist-packages (from ipython==7.34.0->google-colab) (67.7.2)\n",
            "Requirement already satisfied: jedi>=0.16 in /usr/local/lib/python3.10/dist-packages (from ipython==7.34.0->google-colab) (0.19.1)\n",
            "Requirement already satisfied: decorator in /usr/local/lib/python3.10/dist-packages (from ipython==7.34.0->google-colab) (4.4.2)\n",
            "Requirement already satisfied: pickleshare in /usr/local/lib/python3.10/dist-packages (from ipython==7.34.0->google-colab) (0.7.5)\n",
            "Requirement already satisfied: prompt-toolkit!=3.0.0,!=3.0.1,<3.1.0,>=2.0.0 in /usr/local/lib/python3.10/dist-packages (from ipython==7.34.0->google-colab) (3.0.43)\n",
            "Requirement already satisfied: pygments in /usr/local/lib/python3.10/dist-packages (from ipython==7.34.0->google-colab) (2.16.1)\n",
            "Requirement already satisfied: backcall in /usr/local/lib/python3.10/dist-packages (from ipython==7.34.0->google-colab) (0.2.0)\n",
            "Requirement already satisfied: matplotlib-inline in /usr/local/lib/python3.10/dist-packages (from ipython==7.34.0->google-colab) (0.1.6)\n",
            "Requirement already satisfied: pexpect>4.3 in /usr/local/lib/python3.10/dist-packages (from ipython==7.34.0->google-colab) (4.9.0)\n",
            "Requirement already satisfied: jinja2 in /usr/local/lib/python3.10/dist-packages (from notebook==6.5.5->google-colab) (3.1.3)\n",
            "Requirement already satisfied: pyzmq<25,>=17 in /usr/local/lib/python3.10/dist-packages (from notebook==6.5.5->google-colab) (23.2.1)\n",
            "Requirement already satisfied: argon2-cffi in /usr/local/lib/python3.10/dist-packages (from notebook==6.5.5->google-colab) (23.1.0)\n",
            "Requirement already satisfied: jupyter-core>=4.6.1 in /usr/local/lib/python3.10/dist-packages (from notebook==6.5.5->google-colab) (5.7.1)\n",
            "Requirement already satisfied: nbformat in /usr/local/lib/python3.10/dist-packages (from notebook==6.5.5->google-colab) (5.9.2)\n",
            "Requirement already satisfied: nbconvert>=5 in /usr/local/lib/python3.10/dist-packages (from notebook==6.5.5->google-colab) (6.5.4)\n",
            "Requirement already satisfied: nest-asyncio>=1.5 in /usr/local/lib/python3.10/dist-packages (from notebook==6.5.5->google-colab) (1.6.0)\n",
            "Requirement already satisfied: Send2Trash>=1.8.0 in /usr/local/lib/python3.10/dist-packages (from notebook==6.5.5->google-colab) (1.8.2)\n",
            "Requirement already satisfied: terminado>=0.8.3 in /usr/local/lib/python3.10/dist-packages (from notebook==6.5.5->google-colab) (0.18.0)\n",
            "Requirement already satisfied: prometheus-client in /usr/local/lib/python3.10/dist-packages (from notebook==6.5.5->google-colab) (0.19.0)\n",
            "Requirement already satisfied: nbclassic>=0.4.7 in /usr/local/lib/python3.10/dist-packages (from notebook==6.5.5->google-colab) (1.0.0)\n",
            "Requirement already satisfied: python-dateutil>=2.8.1 in /usr/local/lib/python3.10/dist-packages (from pandas==1.5.3->google-colab) (2.8.2)\n",
            "Requirement already satisfied: pytz>=2020.1 in /usr/local/lib/python3.10/dist-packages (from pandas==1.5.3->google-colab) (2023.4)\n",
            "Requirement already satisfied: numpy>=1.21.0 in /usr/local/lib/python3.10/dist-packages (from pandas==1.5.3->google-colab) (1.25.2)\n",
            "Requirement already satisfied: psutil in /usr/local/lib/python3.10/dist-packages (from portpicker==1.5.2->google-colab) (5.9.5)\n",
            "Requirement already satisfied: charset-normalizer<4,>=2 in /usr/local/lib/python3.10/dist-packages (from requests==2.31.0->google-colab) (3.3.2)\n",
            "Requirement already satisfied: idna<4,>=2.5 in /usr/local/lib/python3.10/dist-packages (from requests==2.31.0->google-colab) (3.6)\n",
            "Requirement already satisfied: urllib3<3,>=1.21.1 in /usr/local/lib/python3.10/dist-packages (from requests==2.31.0->google-colab) (2.0.7)\n",
            "Requirement already satisfied: certifi>=2017.4.17 in /usr/local/lib/python3.10/dist-packages (from requests==2.31.0->google-colab) (2024.2.2)\n",
            "Requirement already satisfied: parso<0.9.0,>=0.8.3 in /usr/local/lib/python3.10/dist-packages (from jedi>=0.16->ipython==7.34.0->google-colab) (0.8.3)\n",
            "Requirement already satisfied: platformdirs>=2.5 in /usr/local/lib/python3.10/dist-packages (from jupyter-core>=4.6.1->notebook==6.5.5->google-colab) (4.2.0)\n",
            "Requirement already satisfied: jupyter-server>=1.8 in /usr/local/lib/python3.10/dist-packages (from nbclassic>=0.4.7->notebook==6.5.5->google-colab) (1.24.0)\n",
            "Requirement already satisfied: notebook-shim>=0.2.3 in /usr/local/lib/python3.10/dist-packages (from nbclassic>=0.4.7->notebook==6.5.5->google-colab) (0.2.3)\n",
            "Requirement already satisfied: lxml in /usr/local/lib/python3.10/dist-packages (from nbconvert>=5->notebook==6.5.5->google-colab) (4.9.4)\n",
            "Requirement already satisfied: beautifulsoup4 in /usr/local/lib/python3.10/dist-packages (from nbconvert>=5->notebook==6.5.5->google-colab) (4.12.3)\n",
            "Requirement already satisfied: bleach in /usr/local/lib/python3.10/dist-packages (from nbconvert>=5->notebook==6.5.5->google-colab) (6.1.0)\n",
            "Requirement already satisfied: defusedxml in /usr/local/lib/python3.10/dist-packages (from nbconvert>=5->notebook==6.5.5->google-colab) (0.7.1)\n",
            "Requirement already satisfied: entrypoints>=0.2.2 in /usr/local/lib/python3.10/dist-packages (from nbconvert>=5->notebook==6.5.5->google-colab) (0.4)\n",
            "Requirement already satisfied: jupyterlab-pygments in /usr/local/lib/python3.10/dist-packages (from nbconvert>=5->notebook==6.5.5->google-colab) (0.3.0)\n",
            "Requirement already satisfied: MarkupSafe>=2.0 in /usr/local/lib/python3.10/dist-packages (from nbconvert>=5->notebook==6.5.5->google-colab) (2.1.5)\n",
            "Requirement already satisfied: mistune<2,>=0.8.1 in /usr/local/lib/python3.10/dist-packages (from nbconvert>=5->notebook==6.5.5->google-colab) (0.8.4)\n",
            "Requirement already satisfied: nbclient>=0.5.0 in /usr/local/lib/python3.10/dist-packages (from nbconvert>=5->notebook==6.5.5->google-colab) (0.9.0)\n",
            "Requirement already satisfied: packaging in /usr/local/lib/python3.10/dist-packages (from nbconvert>=5->notebook==6.5.5->google-colab) (23.2)\n",
            "Requirement already satisfied: pandocfilters>=1.4.1 in /usr/local/lib/python3.10/dist-packages (from nbconvert>=5->notebook==6.5.5->google-colab) (1.5.1)\n",
            "Requirement already satisfied: tinycss2 in /usr/local/lib/python3.10/dist-packages (from nbconvert>=5->notebook==6.5.5->google-colab) (1.2.1)\n",
            "Requirement already satisfied: fastjsonschema in /usr/local/lib/python3.10/dist-packages (from nbformat->notebook==6.5.5->google-colab) (2.19.1)\n",
            "Requirement already satisfied: jsonschema>=2.6 in /usr/local/lib/python3.10/dist-packages (from nbformat->notebook==6.5.5->google-colab) (4.19.2)\n",
            "Requirement already satisfied: ptyprocess>=0.5 in /usr/local/lib/python3.10/dist-packages (from pexpect>4.3->ipython==7.34.0->google-colab) (0.7.0)\n",
            "Requirement already satisfied: wcwidth in /usr/local/lib/python3.10/dist-packages (from prompt-toolkit!=3.0.0,!=3.0.1,<3.1.0,>=2.0.0->ipython==7.34.0->google-colab) (0.2.13)\n",
            "Requirement already satisfied: pyasn1<0.6.0,>=0.4.6 in /usr/local/lib/python3.10/dist-packages (from pyasn1-modules>=0.2.1->google-auth==2.27.0->google-colab) (0.5.1)\n",
            "Requirement already satisfied: six>=1.5 in /usr/local/lib/python3.10/dist-packages (from python-dateutil>=2.8.1->pandas==1.5.3->google-colab) (1.16.0)\n",
            "Requirement already satisfied: argon2-cffi-bindings in /usr/local/lib/python3.10/dist-packages (from argon2-cffi->notebook==6.5.5->google-colab) (21.2.0)\n",
            "Requirement already satisfied: attrs>=22.2.0 in /usr/local/lib/python3.10/dist-packages (from jsonschema>=2.6->nbformat->notebook==6.5.5->google-colab) (23.2.0)\n",
            "Requirement already satisfied: jsonschema-specifications>=2023.03.6 in /usr/local/lib/python3.10/dist-packages (from jsonschema>=2.6->nbformat->notebook==6.5.5->google-colab) (2023.12.1)\n",
            "Requirement already satisfied: referencing>=0.28.4 in /usr/local/lib/python3.10/dist-packages (from jsonschema>=2.6->nbformat->notebook==6.5.5->google-colab) (0.33.0)\n",
            "Requirement already satisfied: rpds-py>=0.7.1 in /usr/local/lib/python3.10/dist-packages (from jsonschema>=2.6->nbformat->notebook==6.5.5->google-colab) (0.17.1)\n",
            "Requirement already satisfied: anyio<4,>=3.1.0 in /usr/local/lib/python3.10/dist-packages (from jupyter-server>=1.8->nbclassic>=0.4.7->notebook==6.5.5->google-colab) (3.7.1)\n",
            "Requirement already satisfied: websocket-client in /usr/local/lib/python3.10/dist-packages (from jupyter-server>=1.8->nbclassic>=0.4.7->notebook==6.5.5->google-colab) (1.7.0)\n",
            "Requirement already satisfied: cffi>=1.0.1 in /usr/local/lib/python3.10/dist-packages (from argon2-cffi-bindings->argon2-cffi->notebook==6.5.5->google-colab) (1.16.0)\n",
            "Requirement already satisfied: soupsieve>1.2 in /usr/local/lib/python3.10/dist-packages (from beautifulsoup4->nbconvert>=5->notebook==6.5.5->google-colab) (2.5)\n",
            "Requirement already satisfied: webencodings in /usr/local/lib/python3.10/dist-packages (from bleach->nbconvert>=5->notebook==6.5.5->google-colab) (0.5.1)\n",
            "Requirement already satisfied: sniffio>=1.1 in /usr/local/lib/python3.10/dist-packages (from anyio<4,>=3.1.0->jupyter-server>=1.8->nbclassic>=0.4.7->notebook==6.5.5->google-colab) (1.3.0)\n",
            "Requirement already satisfied: exceptiongroup in /usr/local/lib/python3.10/dist-packages (from anyio<4,>=3.1.0->jupyter-server>=1.8->nbclassic>=0.4.7->notebook==6.5.5->google-colab) (1.2.0)\n",
            "Requirement already satisfied: pycparser in /usr/local/lib/python3.10/dist-packages (from cffi>=1.0.1->argon2-cffi-bindings->argon2-cffi->notebook==6.5.5->google-colab) (2.21)\n"
          ]
        }
      ],
      "source": [
        "!pip install langchain -q\n",
        "!pip install pytube -q\n",
        "!pip install youtube-transcript-api\n",
        "!pip install google-colab\n",
        "from langchain.document_loaders import YoutubeLoader\n",
        "from pytube import YouTube\n",
        "from google.colab import files # se utiliza para bajar los archivos txt"
      ]
    },
    {
      "cell_type": "code",
      "source": [
        "# Montar Google Drive en Colab\n",
        "from google.colab import drive\n",
        "drive.mount('/content/drive')\n",
        "\n",
        "# Ruta al archivo de texto en Google Drive\n",
        "file_path = '/content/drive/MyDrive/chatlef/Videos.txt'\n"
      ],
      "metadata": {
        "id": "UpQA20HKu9ln",
        "colab": {
          "base_uri": "https://localhost:8080/"
        },
        "outputId": "2ec78453-2008-496c-f6da-9daf9ff50d7e"
      },
      "execution_count": 12,
      "outputs": [
        {
          "output_type": "stream",
          "name": "stdout",
          "text": [
            "Drive already mounted at /content/drive; to attempt to forcibly remount, call drive.mount(\"/content/drive\", force_remount=True).\n"
          ]
        }
      ]
    },
    {
      "cell_type": "code",
      "source": [
        "# Expresión regular para encontrar URLs en el formato corto (hay que enviarle el formato corto a YoutubeLoader.from_youtube_url)\n",
        "import re #  Libreria que  utiliza funciones de espresiones regulares para trabajar el tema de las cadenas\n",
        "urls_youtu_be = []\n",
        "# Expresión regular para encontrar URLs en el formato largo\n",
        "regex = r\"https://www\\.youtube\\.com/watch\\?v=([\\w-]+)\"\n",
        "# Leer las líneas desde el archivo de video\n",
        "with open(file_path, 'r') as file:\n",
        "    for line in file:\n",
        "        # Buscar coincidencias con la expresión regular\n",
        "        matches = re.findall(regex, line)\n",
        "        # Convertir las URLs en el formato corto\n",
        "        urls_short_format = [f\"https://youtu.be/{match}\" for match in matches]\n",
        "        # Agregar las URLs en el formato corto a la lista\n",
        "        urls_youtu_be.extend(urls_short_format)\n",
        "# Mostrar las URLs en el formato corto\n",
        "#for url in urls_youtu_be:\n",
        " #   print(url)\n",
        "\n"
      ],
      "metadata": {
        "id": "kaK72Ws3ETfs",
        "colab": {
          "base_uri": "https://localhost:8080/"
        },
        "outputId": "3dbedeaf-3ea4-4b0c-f5e9-5f074c219b3a"
      },
      "execution_count": 15,
      "outputs": [
        {
          "output_type": "stream",
          "name": "stdout",
          "text": [
            "https://youtu.be/zPw_xqn_Ztk\n",
            "https://youtu.be/UXxeAYfkdkw\n",
            "https://youtu.be/uIrEkVyrFT0\n",
            "https://youtu.be/qL_8Un-C2YI\n",
            "https://youtu.be/XVjzqtohGKM\n",
            "https://youtu.be/6Npzfhjrkb4\n",
            "https://youtu.be/O_VUT1zJRyQ\n",
            "https://youtu.be/RJUwGLygrOQ\n",
            "https://youtu.be/SOvyzc_pwoI\n",
            "https://youtu.be/wHbg-O1P-Nc\n",
            "https://youtu.be/PL0Mc-ULZeI\n",
            "https://youtu.be/F0NqID55iJk\n",
            "https://youtu.be/oVYt4UtkvPI\n",
            "https://youtu.be/77arfIsarXI\n",
            "https://youtu.be/jaIg4s6iIiI\n",
            "https://youtu.be/b_3_B-Ej_9I\n",
            "https://youtu.be/TLUMH0UdZ2Q\n",
            "https://youtu.be/7MbNubZixhg\n",
            "https://youtu.be/urDhXUtxGWM\n",
            "https://youtu.be/3Ssh1SsiW6s\n",
            "https://youtu.be/3vfEIhqZCnY\n",
            "https://youtu.be/YOdajMsWZAQ\n",
            "https://youtu.be/_hinMLX5VnI\n",
            "https://youtu.be/NDor8fLB2fg\n",
            "https://youtu.be/2jAJjJ2WO3Y\n",
            "https://youtu.be/9-iZjJwEk3c\n",
            "https://youtu.be/La9JEBk6ZVU\n",
            "https://youtu.be/UNZz4H_Bx0s\n",
            "https://youtu.be/NUlWcTWsfR8\n",
            "https://youtu.be/NJKUPY31Ihw\n",
            "https://youtu.be/qgoA7M8msSs\n",
            "https://youtu.be/1rBuE0-juks\n",
            "https://youtu.be/frbxynGYOSQ\n",
            "https://youtu.be/B0Q6OW0xQpY\n",
            "https://youtu.be/Vr5mQ6m-WKA\n",
            "https://youtu.be/ohHO3qSj9pM\n",
            "https://youtu.be/0KCVEQp9AzE\n",
            "https://youtu.be/TnLbGAKQGyE\n",
            "https://youtu.be/6pNLOlOH7vg\n",
            "https://youtu.be/mdiQ8x2IB2w\n",
            "https://youtu.be/1rbpnqTIXRk\n",
            "https://youtu.be/mdiQ8x2IB2w\n",
            "https://youtu.be/1rbpnqTIXRk\n",
            "https://youtu.be/R7HAfYlQsNc\n",
            "https://youtu.be/YpgjXhaos9M\n",
            "https://youtu.be/Eyo9M8LH01s\n",
            "https://youtu.be/XjDrboUA5Oc\n",
            "https://youtu.be/XOBv5U1nHws\n",
            "https://youtu.be/MANTtPfb1G0\n",
            "https://youtu.be/s-Yg52wSNKc\n",
            "https://youtu.be/zMF966bkKvY\n",
            "https://youtu.be/fVKkpb5q1Oc\n",
            "https://youtu.be/XLAdvjbQe6M\n",
            "https://youtu.be/S9PHei3dbsA\n",
            "https://youtu.be/DCoVqxi-EjY\n",
            "https://youtu.be/geVYnK3p2CE\n",
            "https://youtu.be/Ehw9F3Mi9QI\n",
            "https://youtu.be/eEO4d-c15lU\n",
            "https://youtu.be/q2Jteb_auXU\n",
            "https://youtu.be/dv7dK-Zm89I\n",
            "https://youtu.be/cAjvXLESveo\n",
            "https://youtu.be/HntJvF737to\n",
            "https://youtu.be/VnpQ4YUjWA0\n",
            "https://youtu.be/ScYQUYOx3r8\n",
            "https://youtu.be/pXvL-uOaRH8\n",
            "https://youtu.be/TBhFBnko0Gk\n"
          ]
        }
      ]
    },
    {
      "cell_type": "code",
      "source": [],
      "metadata": {
        "id": "On558Tl-ajO6"
      },
      "execution_count": null,
      "outputs": []
    },
    {
      "cell_type": "markdown",
      "source": [
        "Recorre el archcivo videos.txt donde estan la urls de los videos en Youtube, lo convierte en texto, y lo graba en archivos txt (con el nonbre de la url) , luego lo guarda en txt"
      ],
      "metadata": {
        "id": "Zp5-E-9IWyrz"
      }
    },
    {
      "cell_type": "code",
      "source": [
        "import os\n",
        "transcripciones = []\n",
        "for url in urls_youtu_be:\n",
        "    loader = YoutubeLoader.from_youtube_url(url, add_video_info=True, language=[\"es\"])\n",
        "    transcripcion = loader.load()\n",
        "\n",
        "    # Obtener la URL del video\n",
        "    url_video = url\n",
        "\n",
        "    # Agregar la URL al principio del texto\n",
        "    texto_con_url = f\" Titulo: {transcripcion[0].metadata['title']} \\n URL {url_video}  \\n {transcripcion[0].metadata['length']} segundos de duracion \\n {transcripcion[0].page_content}\"\n",
        "    transcripciones.append(texto_con_url)\n",
        "\n",
        "    nombre = transcripcion[0].metadata['source'] + \".txt\"\n",
        "    ruta_archivo = os.path.join('/content/drive/MyDrive/chatlef/Txt', nombre)\n",
        "    # Lo guardamos en el Drive\n",
        "    with open(ruta_archivo, 'w') as file:\n",
        "        file.write(texto_con_url)\n",
        "\n",
        "    # Descargar el archivo .txt\n",
        "    #files.download(nombre)\n"
      ],
      "metadata": {
        "id": "DZlUwmnX0MEA"
      },
      "execution_count": 16,
      "outputs": []
    }
  ]
}