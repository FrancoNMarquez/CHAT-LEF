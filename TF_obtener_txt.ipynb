{
  "nbformat": 4,
  "nbformat_minor": 0,
  "metadata": {
    "colab": {
      "provenance": [],
      "mount_file_id": "1JxFx1r92Ot7FpE-1tmy2UK3iPbLTqhVf",
      "authorship_tag": "ABX9TyOz9MvAGnNqTTR0r/ytGllN",
      "include_colab_link": true
    },
    "kernelspec": {
      "name": "python3",
      "display_name": "Python 3"
    },
    "language_info": {
      "name": "python"
    }
  },
  "cells": [
    {
      "cell_type": "markdown",
      "metadata": {
        "id": "view-in-github",
        "colab_type": "text"
      },
      "source": [
        "<a href=\"https://colab.research.google.com/github/FrancoNMarquez/CHAT-LEF/blob/master/TF_obtener_txt.ipynb\" target=\"_parent\"><img src=\"https://colab.research.google.com/assets/colab-badge.svg\" alt=\"Open In Colab\"/></a>"
      ]
    },
    {
      "cell_type": "markdown",
      "source": [],
      "metadata": {
        "id": "84XikHzAVEHl"
      }
    },
    {
      "cell_type": "markdown",
      "source": [
        "\n",
        "\n",
        "05-02-24 Extraer texto de **youtube**\n",
        "\n"
      ],
      "metadata": {
        "id": "zqlqm04SWDfL"
      }
    },
    {
      "cell_type": "code",
      "execution_count": null,
      "metadata": {
        "id": "JzNfeiscqr_c"
      },
      "outputs": [],
      "source": [
        "!pip install langchain -q\n",
        "!pip install pytube -q\n",
        "!pip install youtube-transcript-api\n",
        "!pip install google-colab\n",
        "from langchain.document_loaders import YoutubeLoader\n",
        "from pytube import YouTube\n",
        "from google.colab import files # se utiliza para bajar los archivos txt"
      ]
    },
    {
      "cell_type": "code",
      "source": [
        "# Montar Google Drive en Colab\n",
        "from google.colab import drive\n",
        "drive.mount('/content/drive')\n",
        "\n",
        "# Ruta al archivo de texto en Google Drive\n",
        "file_path = '/content/drive/MyDrive/chatlef/Videos.txt'\n"
      ],
      "metadata": {
        "id": "UpQA20HKu9ln",
        "colab": {
          "base_uri": "https://localhost:8080/"
        },
        "outputId": "da4ad73a-42e4-4fb0-aabc-35c8935ed723"
      },
      "execution_count": null,
      "outputs": [
        {
          "output_type": "stream",
          "name": "stdout",
          "text": [
            "Drive already mounted at /content/drive; to attempt to forcibly remount, call drive.mount(\"/content/drive\", force_remount=True).\n"
          ]
        }
      ]
    },
    {
      "cell_type": "code",
      "source": [
        "# Expresión regular para encontrar URLs en el formato corto (hay que enviarle el formato corto a YoutubeLoader.from_youtube_url)\n",
        "import re #  Libreria que  utiliza funciones de espresiones regulares para trabajar el tema de las cadenas\n",
        "urls_youtu_be = []\n",
        "# Expresión regular para encontrar URLs en el formato largo\n",
        "regex = r\"https://www\\.youtube\\.com/watch\\?v=([\\w-]+)\"\n",
        "# Leer las líneas desde el archivo de video\n",
        "with open(file_path, 'r') as file:\n",
        "    for line in file:\n",
        "        # Buscar coincidencias con la expresión regular\n",
        "        matches = re.findall(regex, line)\n",
        "        # Convertir las URLs en el formato corto\n",
        "        urls_short_format = [f\"https://youtu.be/{match}\" for match in matches]\n",
        "        # Agregar las URLs en el formato corto a la lista\n",
        "        urls_youtu_be.extend(urls_short_format)\n",
        "# Mostrar las URLs en el formato corto\n",
        "#i=0\n",
        "#for url in urls_youtu_be:\n",
        "#  i+=1\n",
        " # print(i ,'Url', url)\n",
        "\n"
      ],
      "metadata": {
        "id": "kaK72Ws3ETfs"
      },
      "execution_count": null,
      "outputs": []
    },
    {
      "cell_type": "code",
      "source": [],
      "metadata": {
        "id": "On558Tl-ajO6"
      },
      "execution_count": null,
      "outputs": []
    },
    {
      "cell_type": "markdown",
      "source": [
        "Recorre el archcivo videos.txt donde estan la urls de los videos en Youtube, lo convierte en texto, y lo graba en archivos txt (con el nonbre de la url) , luego lo guarda en txt"
      ],
      "metadata": {
        "id": "Zp5-E-9IWyrz"
      }
    },
    {
      "cell_type": "code",
      "source": [
        "import os\n",
        "transcripciones = []\n",
        "i=0\n",
        "for url in urls_youtu_be:\n",
        "    loader = YoutubeLoader.from_youtube_url(url, add_video_info=True, language=[\"es\"])\n",
        "    transcripcion = loader.load()\n",
        "\n",
        "    # Obtener la URL del video\n",
        "    url_video = url\n",
        "\n",
        "    # Agregar la URL al principio del texto\n",
        "    texto_con_url = f\" Titulo: {transcripcion[0].metadata['title']} \\n URL {url_video}  \\n {transcripcion[0].metadata['length']} segundos de duracion \\n {transcripcion[0].page_content}\"\n",
        "    transcripciones.append(texto_con_url)\n",
        "    i+=1\n",
        "    nombre =str(i)+\"_\"+  transcripcion[0].metadata['source']+  \".txt\"\n",
        "    ruta_archivo = os.path.join('/content/drive/MyDrive/chatlef/Txt', nombre)\n",
        "\n",
        "    print(i ,'Url', nombre)\n",
        "    # Lo guardamos en el Drive\n",
        "    with open(ruta_archivo, 'w') as file:\n",
        "       file.write(texto_con_url)\n",
        "\n",
        "\n",
        "\n",
        "    # Descargar el archivo .txt\n",
        "    #files.download(nombre)\n"
      ],
      "metadata": {
        "colab": {
          "base_uri": "https://localhost:8080/"
        },
        "id": "DZlUwmnX0MEA",
        "outputId": "ec41240a-f454-4908-dc9d-d2f67c7f45c3"
      },
      "execution_count": null,
      "outputs": [
        {
          "output_type": "stream",
          "name": "stdout",
          "text": [
            "1 Url 1_zPw_xqn_Ztk.txt\n",
            "2 Url 2_UXxeAYfkdkw.txt\n",
            "3 Url 3_uIrEkVyrFT0.txt\n",
            "4 Url 4_qL_8Un-C2YI.txt\n",
            "5 Url 5_XVjzqtohGKM.txt\n",
            "6 Url 6_6Npzfhjrkb4.txt\n",
            "7 Url 7_O_VUT1zJRyQ.txt\n",
            "8 Url 8_RJUwGLygrOQ.txt\n",
            "9 Url 9_SOvyzc_pwoI.txt\n",
            "10 Url 10_wHbg-O1P-Nc.txt\n",
            "11 Url 11_PL0Mc-ULZeI.txt\n",
            "12 Url 12_F0NqID55iJk.txt\n",
            "13 Url 13_oVYt4UtkvPI.txt\n",
            "14 Url 14_77arfIsarXI.txt\n",
            "15 Url 15_jaIg4s6iIiI.txt\n",
            "16 Url 16_b_3_B-Ej_9I.txt\n",
            "17 Url 17_TLUMH0UdZ2Q.txt\n",
            "18 Url 18_7MbNubZixhg.txt\n",
            "19 Url 19_urDhXUtxGWM.txt\n",
            "20 Url 20_3Ssh1SsiW6s.txt\n",
            "21 Url 21_3vfEIhqZCnY.txt\n",
            "22 Url 22_YOdajMsWZAQ.txt\n",
            "23 Url 23__hinMLX5VnI.txt\n",
            "24 Url 24_NDor8fLB2fg.txt\n",
            "25 Url 25_2jAJjJ2WO3Y.txt\n",
            "26 Url 26_9-iZjJwEk3c.txt\n",
            "27 Url 27_La9JEBk6ZVU.txt\n",
            "28 Url 28_UNZz4H_Bx0s.txt\n",
            "29 Url 29_NUlWcTWsfR8.txt\n",
            "30 Url 30_NJKUPY31Ihw.txt\n",
            "31 Url 31_qgoA7M8msSs.txt\n",
            "32 Url 32_1rBuE0-juks.txt\n",
            "33 Url 33_frbxynGYOSQ.txt\n",
            "34 Url 34_B0Q6OW0xQpY.txt\n",
            "35 Url 35_Vr5mQ6m-WKA.txt\n",
            "36 Url 36_ohHO3qSj9pM.txt\n",
            "37 Url 37_0KCVEQp9AzE.txt\n",
            "38 Url 38_TnLbGAKQGyE.txt\n",
            "39 Url 39_6pNLOlOH7vg.txt\n",
            "40 Url 40_mdiQ8x2IB2w.txt\n",
            "41 Url 41_1rbpnqTIXRk.txt\n",
            "42 Url 42_IrySbxp1lnA.txt\n",
            "43 Url 43_Tbd-YAcInOI.txt\n",
            "44 Url 44_R7HAfYlQsNc.txt\n",
            "45 Url 45_YpgjXhaos9M.txt\n",
            "46 Url 46_Eyo9M8LH01s.txt\n",
            "47 Url 47_XjDrboUA5Oc.txt\n",
            "48 Url 48_XOBv5U1nHws.txt\n",
            "49 Url 49_MANTtPfb1G0.txt\n",
            "50 Url 50_s-Yg52wSNKc.txt\n",
            "51 Url 51_zMF966bkKvY.txt\n",
            "52 Url 52_fVKkpb5q1Oc.txt\n",
            "53 Url 53_XLAdvjbQe6M.txt\n",
            "54 Url 54_S9PHei3dbsA.txt\n",
            "55 Url 55_DCoVqxi-EjY.txt\n",
            "56 Url 56_geVYnK3p2CE.txt\n",
            "57 Url 57_Ehw9F3Mi9QI.txt\n",
            "58 Url 58_eEO4d-c15lU.txt\n",
            "59 Url 59_q2Jteb_auXU.txt\n",
            "60 Url 60_dv7dK-Zm89I.txt\n",
            "61 Url 61_cAjvXLESveo.txt\n",
            "62 Url 62_HntJvF737to.txt\n",
            "63 Url 63_VnpQ4YUjWA0.txt\n",
            "64 Url 64_ScYQUYOx3r8.txt\n",
            "65 Url 65_pXvL-uOaRH8.txt\n",
            "66 Url 66_TBhFBnko0Gk.txt\n"
          ]
        }
      ]
    }
  ]
}